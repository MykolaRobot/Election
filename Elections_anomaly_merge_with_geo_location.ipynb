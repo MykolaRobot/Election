{
  "nbformat": 4,
  "nbformat_minor": 0,
  "metadata": {
    "colab": {
      "name": "Elections_anomaly_merge_with_geo_location.ipynb",
      "version": "0.3.2",
      "provenance": [],
      "include_colab_link": true
    },
    "kernelspec": {
      "name": "python3",
      "display_name": "Python 3"
    }
  },
  "cells": [
    {
      "cell_type": "markdown",
      "metadata": {
        "id": "view-in-github",
        "colab_type": "text"
      },
      "source": [
        "<a href=\"https://colab.research.google.com/github/MykolaRobot/Election/blob/master/Elections_anomaly_merge_with_geo_location.ipynb\" target=\"_parent\"><img src=\"https://colab.research.google.com/assets/colab-badge.svg\" alt=\"Open In Colab\"/></a>"
      ]
    },
    {
      "metadata": {
        "id": "CngVP1WuTS2O",
        "colab_type": "code",
        "outputId": "65e48415-3fea-43ce-cf69-0a20e605e85a",
        "colab": {
          "base_uri": "https://localhost:8080/",
          "height": 122
        }
      },
      "cell_type": "code",
      "source": [
        "from google.colab import drive\n",
        "drive.mount('/content/gdrive')"
      ],
      "execution_count": 0,
      "outputs": [
        {
          "output_type": "stream",
          "text": [
            "Go to this URL in a browser: https://accounts.google.com/o/oauth2/auth?client_id=947318989803-6bn6qk8qdgf4n4g3pfee6491hc0brc4i.apps.googleusercontent.com&redirect_uri=urn%3Aietf%3Awg%3Aoauth%3A2.0%3Aoob&scope=email%20https%3A%2F%2Fwww.googleapis.com%2Fauth%2Fdocs.test%20https%3A%2F%2Fwww.googleapis.com%2Fauth%2Fdrive%20https%3A%2F%2Fwww.googleapis.com%2Fauth%2Fdrive.photos.readonly%20https%3A%2F%2Fwww.googleapis.com%2Fauth%2Fpeopleapi.readonly&response_type=code\n",
            "\n",
            "Enter your authorization code:\n",
            "··········\n",
            "Mounted at /content/gdrive\n"
          ],
          "name": "stdout"
        }
      ]
    },
    {
      "metadata": {
        "id": "rDEVThsDTe_A",
        "colab_type": "code",
        "colab": {}
      },
      "cell_type": "code",
      "source": [
        "import pandas as pd\n",
        "import time\n",
        "from datetime import datetime\n",
        "import numpy as np"
      ],
      "execution_count": 0,
      "outputs": []
    },
    {
      "metadata": {
        "id": "YBC4WccQTmRH",
        "colab_type": "code",
        "colab": {}
      },
      "cell_type": "code",
      "source": [
        "general_csv='/content/gdrive/My Drive/election_data/data_el19/el19/'"
      ],
      "execution_count": 0,
      "outputs": []
    },
    {
      "metadata": {
        "id": "BdRm-PubcX15",
        "colab_type": "code",
        "colab": {
          "base_uri": "https://localhost:8080/",
          "height": 3417
        },
        "outputId": "d9be98c8-206c-4c2f-8b26-ea539c7e1151"
      },
      "cell_type": "code",
      "source": [
        "list_of_df=list()\n",
        "for i in range(227):\n",
        "  try:\n",
        "    filename=general_csv+str(i)+'.csv'\n",
        "    df=pd.read_csv(filename)\n",
        "    print(filename)\n",
        "  except:\n",
        "    continue\n",
        "  list_of_df.append(df)\n",
        "    "
      ],
      "execution_count": 35,
      "outputs": [
        {
          "output_type": "stream",
          "text": [
            "/content/gdrive/My Drive/election_data/data_el19/el19/11.csv\n",
            "/content/gdrive/My Drive/election_data/data_el19/el19/12.csv\n",
            "/content/gdrive/My Drive/election_data/data_el19/el19/13.csv\n",
            "/content/gdrive/My Drive/election_data/data_el19/el19/14.csv\n",
            "/content/gdrive/My Drive/election_data/data_el19/el19/15.csv\n",
            "/content/gdrive/My Drive/election_data/data_el19/el19/16.csv\n",
            "/content/gdrive/My Drive/election_data/data_el19/el19/17.csv\n",
            "/content/gdrive/My Drive/election_data/data_el19/el19/18.csv\n",
            "/content/gdrive/My Drive/election_data/data_el19/el19/19.csv\n",
            "/content/gdrive/My Drive/election_data/data_el19/el19/20.csv\n",
            "/content/gdrive/My Drive/election_data/data_el19/el19/21.csv\n",
            "/content/gdrive/My Drive/election_data/data_el19/el19/22.csv\n",
            "/content/gdrive/My Drive/election_data/data_el19/el19/23.csv\n",
            "/content/gdrive/My Drive/election_data/data_el19/el19/24.csv\n",
            "/content/gdrive/My Drive/election_data/data_el19/el19/25.csv\n",
            "/content/gdrive/My Drive/election_data/data_el19/el19/26.csv\n",
            "/content/gdrive/My Drive/election_data/data_el19/el19/27.csv\n",
            "/content/gdrive/My Drive/election_data/data_el19/el19/28.csv\n",
            "/content/gdrive/My Drive/election_data/data_el19/el19/29.csv\n",
            "/content/gdrive/My Drive/election_data/data_el19/el19/30.csv\n",
            "/content/gdrive/My Drive/election_data/data_el19/el19/31.csv\n",
            "/content/gdrive/My Drive/election_data/data_el19/el19/32.csv\n",
            "/content/gdrive/My Drive/election_data/data_el19/el19/33.csv\n",
            "/content/gdrive/My Drive/election_data/data_el19/el19/34.csv\n",
            "/content/gdrive/My Drive/election_data/data_el19/el19/35.csv\n",
            "/content/gdrive/My Drive/election_data/data_el19/el19/36.csv\n",
            "/content/gdrive/My Drive/election_data/data_el19/el19/37.csv\n",
            "/content/gdrive/My Drive/election_data/data_el19/el19/38.csv\n",
            "/content/gdrive/My Drive/election_data/data_el19/el19/39.csv\n",
            "/content/gdrive/My Drive/election_data/data_el19/el19/40.csv\n",
            "/content/gdrive/My Drive/election_data/data_el19/el19/45.csv\n",
            "/content/gdrive/My Drive/election_data/data_el19/el19/46.csv\n",
            "/content/gdrive/My Drive/election_data/data_el19/el19/47.csv\n",
            "/content/gdrive/My Drive/election_data/data_el19/el19/48.csv\n",
            "/content/gdrive/My Drive/election_data/data_el19/el19/49.csv\n",
            "/content/gdrive/My Drive/election_data/data_el19/el19/50.csv\n",
            "/content/gdrive/My Drive/election_data/data_el19/el19/51.csv\n",
            "/content/gdrive/My Drive/election_data/data_el19/el19/52.csv\n",
            "/content/gdrive/My Drive/election_data/data_el19/el19/57.csv\n",
            "/content/gdrive/My Drive/election_data/data_el19/el19/58.csv\n",
            "/content/gdrive/My Drive/election_data/data_el19/el19/59.csv\n",
            "/content/gdrive/My Drive/election_data/data_el19/el19/60.csv\n",
            "/content/gdrive/My Drive/election_data/data_el19/el19/62.csv\n",
            "/content/gdrive/My Drive/election_data/data_el19/el19/63.csv\n",
            "/content/gdrive/My Drive/election_data/data_el19/el19/64.csv\n",
            "/content/gdrive/My Drive/election_data/data_el19/el19/65.csv\n",
            "/content/gdrive/My Drive/election_data/data_el19/el19/66.csv\n",
            "/content/gdrive/My Drive/election_data/data_el19/el19/67.csv\n",
            "/content/gdrive/My Drive/election_data/data_el19/el19/68.csv\n",
            "/content/gdrive/My Drive/election_data/data_el19/el19/69.csv\n",
            "/content/gdrive/My Drive/election_data/data_el19/el19/70.csv\n",
            "/content/gdrive/My Drive/election_data/data_el19/el19/71.csv\n",
            "/content/gdrive/My Drive/election_data/data_el19/el19/72.csv\n",
            "/content/gdrive/My Drive/election_data/data_el19/el19/73.csv\n",
            "/content/gdrive/My Drive/election_data/data_el19/el19/74.csv\n",
            "/content/gdrive/My Drive/election_data/data_el19/el19/75.csv\n",
            "/content/gdrive/My Drive/election_data/data_el19/el19/76.csv\n",
            "/content/gdrive/My Drive/election_data/data_el19/el19/77.csv\n",
            "/content/gdrive/My Drive/election_data/data_el19/el19/78.csv\n",
            "/content/gdrive/My Drive/election_data/data_el19/el19/79.csv\n",
            "/content/gdrive/My Drive/election_data/data_el19/el19/80.csv\n",
            "/content/gdrive/My Drive/election_data/data_el19/el19/81.csv\n",
            "/content/gdrive/My Drive/election_data/data_el19/el19/82.csv\n",
            "/content/gdrive/My Drive/election_data/data_el19/el19/83.csv\n",
            "/content/gdrive/My Drive/election_data/data_el19/el19/84.csv\n",
            "/content/gdrive/My Drive/election_data/data_el19/el19/85.csv\n",
            "/content/gdrive/My Drive/election_data/data_el19/el19/86.csv\n",
            "/content/gdrive/My Drive/election_data/data_el19/el19/87.csv\n",
            "/content/gdrive/My Drive/election_data/data_el19/el19/88.csv\n",
            "/content/gdrive/My Drive/election_data/data_el19/el19/89.csv\n",
            "/content/gdrive/My Drive/election_data/data_el19/el19/90.csv\n",
            "/content/gdrive/My Drive/election_data/data_el19/el19/91.csv\n",
            "/content/gdrive/My Drive/election_data/data_el19/el19/92.csv\n",
            "/content/gdrive/My Drive/election_data/data_el19/el19/93.csv\n",
            "/content/gdrive/My Drive/election_data/data_el19/el19/94.csv\n",
            "/content/gdrive/My Drive/election_data/data_el19/el19/95.csv\n",
            "/content/gdrive/My Drive/election_data/data_el19/el19/96.csv\n",
            "/content/gdrive/My Drive/election_data/data_el19/el19/97.csv\n",
            "/content/gdrive/My Drive/election_data/data_el19/el19/98.csv\n",
            "/content/gdrive/My Drive/election_data/data_el19/el19/99.csv\n",
            "/content/gdrive/My Drive/election_data/data_el19/el19/100.csv\n",
            "/content/gdrive/My Drive/election_data/data_el19/el19/101.csv\n",
            "/content/gdrive/My Drive/election_data/data_el19/el19/102.csv\n",
            "/content/gdrive/My Drive/election_data/data_el19/el19/103.csv\n",
            "/content/gdrive/My Drive/election_data/data_el19/el19/105.csv\n",
            "/content/gdrive/My Drive/election_data/data_el19/el19/106.csv\n",
            "/content/gdrive/My Drive/election_data/data_el19/el19/107.csv\n",
            "/content/gdrive/My Drive/election_data/data_el19/el19/112.csv\n",
            "/content/gdrive/My Drive/election_data/data_el19/el19/113.csv\n",
            "/content/gdrive/My Drive/election_data/data_el19/el19/114.csv\n",
            "/content/gdrive/My Drive/election_data/data_el19/el19/115.csv\n",
            "/content/gdrive/My Drive/election_data/data_el19/el19/116.csv\n",
            "/content/gdrive/My Drive/election_data/data_el19/el19/117.csv\n",
            "/content/gdrive/My Drive/election_data/data_el19/el19/118.csv\n",
            "/content/gdrive/My Drive/election_data/data_el19/el19/119.csv\n",
            "/content/gdrive/My Drive/election_data/data_el19/el19/120.csv\n",
            "/content/gdrive/My Drive/election_data/data_el19/el19/121.csv\n",
            "/content/gdrive/My Drive/election_data/data_el19/el19/122.csv\n",
            "/content/gdrive/My Drive/election_data/data_el19/el19/123.csv\n",
            "/content/gdrive/My Drive/election_data/data_el19/el19/124.csv\n",
            "/content/gdrive/My Drive/election_data/data_el19/el19/125.csv\n",
            "/content/gdrive/My Drive/election_data/data_el19/el19/126.csv\n",
            "/content/gdrive/My Drive/election_data/data_el19/el19/127.csv\n",
            "/content/gdrive/My Drive/election_data/data_el19/el19/128.csv\n",
            "/content/gdrive/My Drive/election_data/data_el19/el19/129.csv\n",
            "/content/gdrive/My Drive/election_data/data_el19/el19/130.csv\n",
            "/content/gdrive/My Drive/election_data/data_el19/el19/131.csv\n",
            "/content/gdrive/My Drive/election_data/data_el19/el19/132.csv\n",
            "/content/gdrive/My Drive/election_data/data_el19/el19/133.csv\n",
            "/content/gdrive/My Drive/election_data/data_el19/el19/134.csv\n",
            "/content/gdrive/My Drive/election_data/data_el19/el19/135.csv\n",
            "/content/gdrive/My Drive/election_data/data_el19/el19/136.csv\n",
            "/content/gdrive/My Drive/election_data/data_el19/el19/137.csv\n",
            "/content/gdrive/My Drive/election_data/data_el19/el19/138.csv\n",
            "/content/gdrive/My Drive/election_data/data_el19/el19/139.csv\n",
            "/content/gdrive/My Drive/election_data/data_el19/el19/140.csv\n",
            "/content/gdrive/My Drive/election_data/data_el19/el19/141.csv\n",
            "/content/gdrive/My Drive/election_data/data_el19/el19/142.csv\n",
            "/content/gdrive/My Drive/election_data/data_el19/el19/143.csv\n",
            "/content/gdrive/My Drive/election_data/data_el19/el19/144.csv\n",
            "/content/gdrive/My Drive/election_data/data_el19/el19/145.csv\n",
            "/content/gdrive/My Drive/election_data/data_el19/el19/146.csv\n",
            "/content/gdrive/My Drive/election_data/data_el19/el19/147.csv\n",
            "/content/gdrive/My Drive/election_data/data_el19/el19/148.csv\n",
            "/content/gdrive/My Drive/election_data/data_el19/el19/149.csv\n",
            "/content/gdrive/My Drive/election_data/data_el19/el19/150.csv\n",
            "/content/gdrive/My Drive/election_data/data_el19/el19/151.csv\n",
            "/content/gdrive/My Drive/election_data/data_el19/el19/152.csv\n",
            "/content/gdrive/My Drive/election_data/data_el19/el19/153.csv\n",
            "/content/gdrive/My Drive/election_data/data_el19/el19/154.csv\n",
            "/content/gdrive/My Drive/election_data/data_el19/el19/155.csv\n",
            "/content/gdrive/My Drive/election_data/data_el19/el19/156.csv\n",
            "/content/gdrive/My Drive/election_data/data_el19/el19/157.csv\n",
            "/content/gdrive/My Drive/election_data/data_el19/el19/158.csv\n",
            "/content/gdrive/My Drive/election_data/data_el19/el19/159.csv\n",
            "/content/gdrive/My Drive/election_data/data_el19/el19/160.csv\n",
            "/content/gdrive/My Drive/election_data/data_el19/el19/161.csv\n",
            "/content/gdrive/My Drive/election_data/data_el19/el19/162.csv\n",
            "/content/gdrive/My Drive/election_data/data_el19/el19/163.csv\n",
            "/content/gdrive/My Drive/election_data/data_el19/el19/164.csv\n",
            "/content/gdrive/My Drive/election_data/data_el19/el19/165.csv\n",
            "/content/gdrive/My Drive/election_data/data_el19/el19/166.csv\n",
            "/content/gdrive/My Drive/election_data/data_el19/el19/167.csv\n",
            "/content/gdrive/My Drive/election_data/data_el19/el19/168.csv\n",
            "/content/gdrive/My Drive/election_data/data_el19/el19/169.csv\n",
            "/content/gdrive/My Drive/election_data/data_el19/el19/170.csv\n",
            "/content/gdrive/My Drive/election_data/data_el19/el19/171.csv\n",
            "/content/gdrive/My Drive/election_data/data_el19/el19/172.csv\n",
            "/content/gdrive/My Drive/election_data/data_el19/el19/173.csv\n",
            "/content/gdrive/My Drive/election_data/data_el19/el19/174.csv\n",
            "/content/gdrive/My Drive/election_data/data_el19/el19/175.csv\n",
            "/content/gdrive/My Drive/election_data/data_el19/el19/176.csv\n",
            "/content/gdrive/My Drive/election_data/data_el19/el19/177.csv\n",
            "/content/gdrive/My Drive/election_data/data_el19/el19/178.csv\n",
            "/content/gdrive/My Drive/election_data/data_el19/el19/179.csv\n",
            "/content/gdrive/My Drive/election_data/data_el19/el19/180.csv\n",
            "/content/gdrive/My Drive/election_data/data_el19/el19/181.csv\n",
            "/content/gdrive/My Drive/election_data/data_el19/el19/182.csv\n",
            "/content/gdrive/My Drive/election_data/data_el19/el19/183.csv\n",
            "/content/gdrive/My Drive/election_data/data_el19/el19/184.csv\n",
            "/content/gdrive/My Drive/election_data/data_el19/el19/185.csv\n",
            "/content/gdrive/My Drive/election_data/data_el19/el19/186.csv\n",
            "/content/gdrive/My Drive/election_data/data_el19/el19/187.csv\n",
            "/content/gdrive/My Drive/election_data/data_el19/el19/188.csv\n",
            "/content/gdrive/My Drive/election_data/data_el19/el19/189.csv\n",
            "/content/gdrive/My Drive/election_data/data_el19/el19/190.csv\n",
            "/content/gdrive/My Drive/election_data/data_el19/el19/191.csv\n",
            "/content/gdrive/My Drive/election_data/data_el19/el19/192.csv\n",
            "/content/gdrive/My Drive/election_data/data_el19/el19/193.csv\n",
            "/content/gdrive/My Drive/election_data/data_el19/el19/194.csv\n",
            "/content/gdrive/My Drive/election_data/data_el19/el19/195.csv\n",
            "/content/gdrive/My Drive/election_data/data_el19/el19/196.csv\n",
            "/content/gdrive/My Drive/election_data/data_el19/el19/197.csv\n",
            "/content/gdrive/My Drive/election_data/data_el19/el19/198.csv\n",
            "/content/gdrive/My Drive/election_data/data_el19/el19/199.csv\n",
            "/content/gdrive/My Drive/election_data/data_el19/el19/200.csv\n",
            "/content/gdrive/My Drive/election_data/data_el19/el19/201.csv\n",
            "/content/gdrive/My Drive/election_data/data_el19/el19/202.csv\n",
            "/content/gdrive/My Drive/election_data/data_el19/el19/203.csv\n",
            "/content/gdrive/My Drive/election_data/data_el19/el19/204.csv\n",
            "/content/gdrive/My Drive/election_data/data_el19/el19/205.csv\n",
            "/content/gdrive/My Drive/election_data/data_el19/el19/206.csv\n",
            "/content/gdrive/My Drive/election_data/data_el19/el19/207.csv\n",
            "/content/gdrive/My Drive/election_data/data_el19/el19/208.csv\n",
            "/content/gdrive/My Drive/election_data/data_el19/el19/209.csv\n",
            "/content/gdrive/My Drive/election_data/data_el19/el19/210.csv\n",
            "/content/gdrive/My Drive/election_data/data_el19/el19/211.csv\n",
            "/content/gdrive/My Drive/election_data/data_el19/el19/212.csv\n",
            "/content/gdrive/My Drive/election_data/data_el19/el19/213.csv\n",
            "/content/gdrive/My Drive/election_data/data_el19/el19/214.csv\n",
            "/content/gdrive/My Drive/election_data/data_el19/el19/215.csv\n",
            "/content/gdrive/My Drive/election_data/data_el19/el19/216.csv\n",
            "/content/gdrive/My Drive/election_data/data_el19/el19/217.csv\n",
            "/content/gdrive/My Drive/election_data/data_el19/el19/218.csv\n",
            "/content/gdrive/My Drive/election_data/data_el19/el19/219.csv\n",
            "/content/gdrive/My Drive/election_data/data_el19/el19/220.csv\n",
            "/content/gdrive/My Drive/election_data/data_el19/el19/221.csv\n",
            "/content/gdrive/My Drive/election_data/data_el19/el19/222.csv\n",
            "/content/gdrive/My Drive/election_data/data_el19/el19/223.csv\n",
            "/content/gdrive/My Drive/election_data/data_el19/el19/226.csv\n"
          ],
          "name": "stdout"
        }
      ]
    },
    {
      "metadata": {
        "id": "i9ID9zIrUc4H",
        "colab_type": "code",
        "colab": {}
      },
      "cell_type": "code",
      "source": [
        "df=pd.concat(list_of_df)"
      ],
      "execution_count": 0,
      "outputs": []
    },
    {
      "metadata": {
        "id": "6vd0HvsEVAel",
        "colab_type": "code",
        "colab": {}
      },
      "cell_type": "code",
      "source": [
        "df['ТВО']=df['ТВО'].astype(int)"
      ],
      "execution_count": 0,
      "outputs": []
    },
    {
      "metadata": {
        "id": "SIclWq2Fh16V",
        "colab_type": "text"
      },
      "cell_type": "markdown",
      "source": [
        "Merge with geo locations"
      ]
    },
    {
      "metadata": {
        "id": "HesI0XZ1h7xK",
        "colab_type": "code",
        "colab": {}
      },
      "cell_type": "code",
      "source": [
        "geo_df=pd.read_csv('/content/gdrive/My Drive/election_data/VD_cord/cordynaty_VD.csv')"
      ],
      "execution_count": 0,
      "outputs": []
    },
    {
      "metadata": {
        "id": "gshSIKWIiwev",
        "colab_type": "code",
        "colab": {
          "base_uri": "https://localhost:8080/",
          "height": 131
        },
        "outputId": "3d60fc35-c333-4d10-ca4c-5d28ef773b7a"
      },
      "cell_type": "code",
      "source": [
        "geo_df[geo_df['PEC']==50130]"
      ],
      "execution_count": 62,
      "outputs": [
        {
          "output_type": "execute_result",
          "data": {
            "text/html": [
              "<div>\n",
              "<style scoped>\n",
              "    .dataframe tbody tr th:only-of-type {\n",
              "        vertical-align: middle;\n",
              "    }\n",
              "\n",
              "    .dataframe tbody tr th {\n",
              "        vertical-align: top;\n",
              "    }\n",
              "\n",
              "    .dataframe thead th {\n",
              "        text-align: right;\n",
              "    }\n",
              "</style>\n",
              "<table border=\"1\" class=\"dataframe\">\n",
              "  <thead>\n",
              "    <tr style=\"text-align: right;\">\n",
              "      <th></th>\n",
              "      <th>oblast</th>\n",
              "      <th>okrug</th>\n",
              "      <th>PEC</th>\n",
              "      <th>type</th>\n",
              "      <th>address</th>\n",
              "      <th>meji</th>\n",
              "      <th>prum</th>\n",
              "      <th>cord_X</th>\n",
              "      <th>cord_Y</th>\n",
              "      <th>polygon</th>\n",
              "    </tr>\n",
              "  </thead>\n",
              "  <tbody>\n",
              "    <tr>\n",
              "      <th>1237</th>\n",
              "      <td>Вінницька область</td>\n",
              "      <td>11.0</td>\n",
              "      <td>50130</td>\n",
              "      <td>Звичайна</td>\n",
              "      <td>вул.40-річчя Перемоги, 7, смт Стрижавка, Вінни...</td>\n",
              "      <td>смт Стрижавка – вул.Байдукова, вул.Бугова, вул...</td>\n",
              "      <td>селищна рада, актовий зал</td>\n",
              "      <td>49.306361</td>\n",
              "      <td>28.46846</td>\n",
              "      <td>[28.445138, 49.293009], [28.447933, 49.289468]...</td>\n",
              "    </tr>\n",
              "  </tbody>\n",
              "</table>\n",
              "</div>"
            ],
            "text/plain": [
              "                 oblast  okrug    PEC      type  \\\n",
              "1237  Вінницька область   11.0  50130  Звичайна   \n",
              "\n",
              "                                                address  \\\n",
              "1237  вул.40-річчя Перемоги, 7, смт Стрижавка, Вінни...   \n",
              "\n",
              "                                                   meji  \\\n",
              "1237  смт Стрижавка – вул.Байдукова, вул.Бугова, вул...   \n",
              "\n",
              "                           prum     cord_X    cord_Y  \\\n",
              "1237  селищна рада, актовий зал  49.306361  28.46846   \n",
              "\n",
              "                                                polygon  \n",
              "1237  [28.445138, 49.293009], [28.447933, 49.289468]...  "
            ]
          },
          "metadata": {
            "tags": []
          },
          "execution_count": 62
        }
      ]
    },
    {
      "metadata": {
        "id": "UftMgY3JjFjP",
        "colab_type": "code",
        "colab": {}
      },
      "cell_type": "code",
      "source": [
        "geo_df=geo_df[['okrug','PEC','cord_X','cord_Y','address']]"
      ],
      "execution_count": 0,
      "outputs": []
    },
    {
      "metadata": {
        "id": "BufGXdSLjej8",
        "colab_type": "code",
        "colab": {}
      },
      "cell_type": "code",
      "source": [
        "merge_df=pd.merge(df,geo_df,left_on=['№ ВД','ТВО'],right_on=['PEC','okrug'],how='left')"
      ],
      "execution_count": 0,
      "outputs": []
    },
    {
      "metadata": {
        "id": "NdDD5v0xqfNE",
        "colab_type": "code",
        "colab": {}
      },
      "cell_type": "code",
      "source": [
        "merge_df.to_csv('merge_election_data.csv',index=False)"
      ],
      "execution_count": 0,
      "outputs": []
    },
    {
      "metadata": {
        "id": "APJNicQjvU67",
        "colab_type": "code",
        "colab": {}
      },
      "cell_type": "code",
      "source": [
        ""
      ],
      "execution_count": 0,
      "outputs": []
    }
  ]
}